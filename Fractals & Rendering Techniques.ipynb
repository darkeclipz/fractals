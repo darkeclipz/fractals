{
 "cells": [
  {
   "cell_type": "markdown",
   "metadata": {},
   "source": [
    "# Introduction"
   ]
  },
  {
   "cell_type": "markdown",
   "metadata": {},
   "source": [
    "https://iquilezles.org/www/index.htm"
   ]
  },
  {
   "cell_type": "markdown",
   "metadata": {},
   "source": [
    "When I first started out with rendering fractals, I found it particularly hard to find any information about them. I wish I would have stumbled upon a nice and clear paper which would help me to get started, but I haven't found any. The goal of this paper is to explain about fractals and present a few techniques for rendering them. "
   ]
  },
  {
   "cell_type": "markdown",
   "metadata": {},
   "source": [
    "# Complex Numbers"
   ]
  },
  {
   "cell_type": "markdown",
   "metadata": {},
   "source": [
    "## Imaginary Numbers"
   ]
  },
  {
   "cell_type": "markdown",
   "metadata": {},
   "source": [
    "$$ i = \\sqrt{-1} $$"
   ]
  },
  {
   "cell_type": "markdown",
   "metadata": {},
   "source": [
    "## Complex Arithmetic"
   ]
  },
  {
   "cell_type": "markdown",
   "metadata": {},
   "source": [
    "A complex number $z$ is defined as $\\{(a + bi)\\ |\\ a, b \\in \\mathbb{R}\\}$ where $a$ is called the _real_ component of $z$, $b$ the _imaginary_ component of $z$, and $i$ is defined as $\\sqrt{-1}$. An example of a complex number would be $5 + 2i$. The real component is also denoted with $\\textrm{Re}(z)$, and likewise the imaginary component with $\\textrm{Im}(z)$. Another way to write it is as $z=\\textrm{Re}(z) + i\\ \\textrm{Im}(z)$."
   ]
  },
  {
   "cell_type": "markdown",
   "metadata": {},
   "source": [
    "Don't worry if that didn't make any sense. Another way to think about complex numbers is with $x$ and $y$ coordinates. For example, $3+2i$ can be interpreted such that $x=3$ and $y=2$. In GLSL, we define a complex number as a vector of two components. All we need to know, is that complex numbers have their own rules for arithmetic."
   ]
  },
  {
   "cell_type": "markdown",
   "metadata": {},
   "source": [
    "Complex arithmetic is defined a bit differently from what you are used to do. If have have two complex numbers $a + bi$ and $c + di$, then:\n",
    "\n",
    " * Addition: $(a + bi) + (c + di) = (a + c + i(b + d))$.\n",
    "   * Example: $(3 + 2i) + (1 - i) = 4 + i$.\n",
    "   \n",
    "   \n",
    " * Multiplication $(a + bi)(c + di) = (ac + adi + bci + bdi^2) = (ac - bd + i(ad + bc))$, notice that $i^2 = -1$, thus $bdi^2 = - bd$.\n",
    "   * Example: $(3 + 2i)(1 - i) = 3 - 3i + 2i - 2i^2 = 5 - i$.\n",
    "   \n",
    "   \n",
    " * Exponentiation: $(a + bi)^2 = a^2 + 2abi + b^2i^2 = a^2 - b^2 + 2abi$.\n",
    "   * Example: $(3 + 2i)^2 = 9 + 6i + 6i + 4i^2 = 5 + 12i$."
   ]
  },
  {
   "cell_type": "markdown",
   "metadata": {},
   "source": [
    "We will now implement complex arithmetic with matrix operations in GLSL."
   ]
  },
  {
   "cell_type": "markdown",
   "metadata": {},
   "source": [
    "## Matrix Exponentation"
   ]
  },
  {
   "cell_type": "markdown",
   "metadata": {},
   "source": [
    "In GLSL we represent complex numbers with a vector of two components. Here we do the exponentation of $(a+bi)^2$ with a matrix multiplication:"
   ]
  },
  {
   "cell_type": "markdown",
   "metadata": {},
   "source": [
    "```glsl\n",
    "z = mat2(z, -z.y, z.x) * z\n",
    "```"
   ]
  },
  {
   "cell_type": "markdown",
   "metadata": {},
   "source": [
    "# The Mandelbrot Set"
   ]
  },
  {
   "cell_type": "markdown",
   "metadata": {},
   "source": [
    "The Mandelbrot set is given with:\n",
    "\n",
    "$$ z_{n+1} = z_n^2 + c $$"
   ]
  },
  {
   "cell_type": "markdown",
   "metadata": {},
   "source": [
    "Clasically we pick a bound $B=2$ which is the disk that contains the Mandelbrot set. On each iteration we calculate $z = z^2 + c$, and check if $|z|$ is greater than $B$, meaning that the orbit of $z$ has escaped under the iteration. This results in checking that $\\sqrt{a^2 + b^2} > B$, which we can square to get $a^2 + b^2 > B^2$. We can also rewrite $a^2 + b^2$ as the dot product of $z\\cdot z$. Therefore we can check if $z$ has escaped by determining that $z\\cdot z > B^2$. Rewriting it algebraically removes the necessity of the square root operation, which improves the speed of the algorithm."
   ]
  },
  {
   "cell_type": "markdown",
   "metadata": {},
   "source": [
    "The following GLSL code is a simple implementation for rendering the Mandelbrot set."
   ]
  },
  {
   "cell_type": "markdown",
   "metadata": {},
   "source": [
    "```glsl\n",
    "#define N 64.\n",
    "#define B 4.\n",
    "\n",
    "void mainImage( out vec4 fragColor, in vec2 fragCoord ) {\n",
    "    \n",
    "    vec2 R = iResolution.xy;\n",
    "    vec2 uv = (2. * fragCoord - R - 1.) / R.y;\n",
    "    vec2 z = vec2(0), c = uv;\n",
    "    float i = 0.;\n",
    "    float k = 2.;\n",
    "\n",
    "    for(i=0.; i < N; i++) {\n",
    "        z = mat2(z, -z.y, z.x) * z + c;\n",
    "        if(dot(z, z) > B*B) break;\n",
    "\t}\n",
    "    \n",
    "    if(i==N) { i = 0.; } // mark interior black\n",
    "    fragColor = vec4(vec3(i/N), 1.);\n",
    "}\n",
    "```"
   ]
  },
  {
   "cell_type": "markdown",
   "metadata": {},
   "source": [
    "Which will render the following image:"
   ]
  },
  {
   "cell_type": "markdown",
   "metadata": {},
   "source": [
    "![Simple Mandelbrot](img/mandelbrot-first.png)"
   ]
  },
  {
   "cell_type": "markdown",
   "metadata": {},
   "source": [
    "# Colorful Palettes"
   ]
  },
  {
   "cell_type": "markdown",
   "metadata": {},
   "source": [
    "When we calculated the Mandelbrot set, we apply colorization based on the value of $n$, which has been normalized between $[0,1]$. The idea in this chapter is to develop a function, that has a parameter $t$, that goes between $[0,1]$, that returns a color from a gradient, which can be composed from many different colors, also called a _palette_. "
   ]
  },
  {
   "cell_type": "markdown",
   "metadata": {},
   "source": [
    "## Procedural Color Palette"
   ]
  },
  {
   "cell_type": "markdown",
   "metadata": {},
   "source": [
    "A simple way to create a procedural color palette has been created by _Inoqo Quilez_ (https://iquilezles.org/www/articles/palettes/palettes.htm), it is the following cosine expression:"
   ]
  },
  {
   "cell_type": "markdown",
   "metadata": {},
   "source": [
    "$$ \\textrm{color}(t) = a + b \\cdot \\cos [2\\pi(c\\cdot t+d)] $$"
   ]
  },
  {
   "cell_type": "markdown",
   "metadata": {},
   "source": [
    "As $t$ runs from $0$ to $1$, the cosine oscillates $c$ times with a phase of $d$. The result is scaled and biased by $a$ and $b$ to meet the desired contrast and brightness. The parameters $a, b, c$ and $d$ are vectors with three components (r, g, b). We can also think of $a$ as the _offset_, $b$ as the _amplitude_, $c$ as the _frequency_, and $d$ as the _phase_, for each r, g, b component respectively."
   ]
  },
  {
   "cell_type": "markdown",
   "metadata": {},
   "source": [
    "For example, if we pick values for $a, b, c$ and $d$:"
   ]
  },
  {
   "cell_type": "markdown",
   "metadata": {},
   "source": [
    "$$ a = \\begin{bmatrix} 0.65 \\\\ 0.5 \\\\ 0.31 \\end{bmatrix} \\quad b = \\begin{bmatrix} -0.65 \\\\ 0.5 \\\\ 0.6 \\end{bmatrix} \\quad c = \\begin{bmatrix} 0.333 \\\\ 0.278 \\\\ 0.278 \\end{bmatrix} \\quad d = \\begin{bmatrix} 0.66 \\\\ 0 \\\\ 0.667 \\end{bmatrix} $$"
   ]
  },
  {
   "cell_type": "markdown",
   "metadata": {},
   "source": [
    "we can create a plot with the [_cosine gradient generator_](http://dev.thi.ng/gradients/). This gives a nice visualization of what is going on and how this procedural color palette works."
   ]
  },
  {
   "cell_type": "markdown",
   "metadata": {},
   "source": [
    "![Color palette](img/color-palette.png)"
   ]
  },
  {
   "cell_type": "markdown",
   "metadata": {},
   "source": [
    "We can see that this set of values gives a nice green and blueish gradient."
   ]
  },
  {
   "cell_type": "markdown",
   "metadata": {},
   "source": [
    "## Gradient Examples"
   ]
  },
  {
   "cell_type": "markdown",
   "metadata": {},
   "source": [
    "This is a list of palettes that can be used for many purposes. Many more palettes can be found at http://dev.thi.ng/gradients/."
   ]
  },
  {
   "cell_type": "markdown",
   "metadata": {},
   "source": [
    "|a|b|c|d|palette|\n",
    "|--|--|--|--|--|\n",
    "|`0.5, 0.5, 0.5`|`0.5, 0.5, 0.5`|`1.0, 1.0, 1.0`|`0.00, 0.33, 0.67`|![Palette 1](img/pal01.png)|\n",
    "|`0.5, 0.5, 0.5`|`0.5, 0.5, 0.5`|`1.0, 1.0, 1.0`|`0.00, 0.10, 0.20`|![Palette 1](img/pal02.png)|\n",
    "|`0.5, 0.5, 0.5`|`0.5, 0.5, 0.5`|`1.0, 1.0, 1.0`|`0.30, 0.20, 0.20`|![Palette 1](img/pal03.png)|\n",
    "|`0.5, 0.5, 0.5`|`0.5, 0.5, 0.5`|`1.0, 1.0, 0.5`|`0.80, 0.90, 0.30`|![Palette 1](img/pal04.png)|\n",
    "|`0.5, 0.5, 0.5`|`0.5, 0.5, 0.5`|`1.0, 0.7, 0.4`|`0.00, 0.15, 0.20`|![Palette 1](img/pal05.png)|\n",
    "|`0.5, 0.5, 0.5`|`0.5, 0.5, 0.5`|`2.0, 1.0, 0.0`|`0.50, 0.20, 0.25`|![Palette 1](img/pal06.png)|\n",
    "|`0.5, 0.5, 0.5`|`0.5, 0.5, 0.5`|`2.0, 1.0, 1.0`|`0.00, 0.25, 0.25`|![Palette 1](img/pal07.png)|"
   ]
  },
  {
   "cell_type": "markdown",
   "metadata": {},
   "source": [
    "## Implementation"
   ]
  },
  {
   "cell_type": "markdown",
   "metadata": {},
   "source": [
    "The code follows easily from the formula described above:"
   ]
  },
  {
   "cell_type": "markdown",
   "metadata": {},
   "source": [
    "```glsl\n",
    "vec3 palette( in float t, in vec3 a, in vec3 b, in vec3 c, in vec3 d )\n",
    "{\n",
    "    return a + b*cos( 6.28318*(c*t+d) );\n",
    "}\n",
    "```"
   ]
  },
  {
   "cell_type": "markdown",
   "metadata": {},
   "source": [
    "# Smooth Iteration Count"
   ]
  },
  {
   "cell_type": "markdown",
   "metadata": {},
   "source": [
    "As you probably have noticed, the change in color goes in discrete steps, which creates the color bands. This happens because $n$, the number of iterations, is an integer. These discrete steps of changes in colors results in the rendering of the bands. To solve this, there is a method to calculate the fractional part of $n$. We subtract the fractional part from $n$ to get $sn$, which is a continuous value."
   ]
  },
  {
   "cell_type": "markdown",
   "metadata": {},
   "source": [
    "The fractional part of the smooth iteration count can be calculated with:"
   ]
  },
  {
   "cell_type": "markdown",
   "metadata": {},
   "source": [
    "$$ sn = n - \\dfrac{\\ln \\dfrac{\\ln |z_n|}{\\ln B}}{\\ln d} $$"
   ]
  },
  {
   "cell_type": "markdown",
   "metadata": {},
   "source": [
    "where $B$ is the threshold when $|z|$ has escaped, and $d$ is the degree of the polynomial under iteration. In the case where $d=2$, such as in the Mandelbrot set, an optimized variant is available:"
   ]
  },
  {
   "cell_type": "markdown",
   "metadata": {},
   "source": [
    "$$ sn = n - \\log_2\\log_2(z_n^2)+k $$"
   ]
  },
  {
   "cell_type": "markdown",
   "metadata": {},
   "source": [
    "![Mandelbrot Smooth Iteration Count](img/smooth-iteration-count.png)"
   ]
  },
  {
   "cell_type": "markdown",
   "metadata": {},
   "source": [
    "The smooth iteration count can be seen in the top part of the rendering, and the discrete iteration count in the bottom half."
   ]
  },
  {
   "cell_type": "markdown",
   "metadata": {},
   "source": [
    "https://iquilezles.org/www/articles/mset_smooth/mset_smooth.htm"
   ]
  },
  {
   "cell_type": "markdown",
   "metadata": {},
   "source": [
    "# Burning Ship Fractal"
   ]
  },
  {
   "cell_type": "markdown",
   "metadata": {},
   "source": [
    "# Julia Sets"
   ]
  },
  {
   "cell_type": "markdown",
   "metadata": {},
   "source": [
    "# Polynomials"
   ]
  },
  {
   "cell_type": "markdown",
   "metadata": {},
   "source": [
    "![Polynomial - Spiral](img/poly1.png)"
   ]
  },
  {
   "cell_type": "markdown",
   "metadata": {},
   "source": [
    "# Distance Rendering"
   ]
  },
  {
   "cell_type": "markdown",
   "metadata": {},
   "source": [
    "https://iquilezles.org/www/articles/distancefractals/distancefractals.htm"
   ]
  },
  {
   "cell_type": "markdown",
   "metadata": {},
   "source": [
    "# Geometric Orbit Traps"
   ]
  },
  {
   "cell_type": "markdown",
   "metadata": {},
   "source": [
    "https://iquilezles.org/www/articles/ftrapsgeometric/ftrapsgeometric.htm"
   ]
  },
  {
   "cell_type": "markdown",
   "metadata": {},
   "source": [
    "# Iterated Functions Systems"
   ]
  },
  {
   "cell_type": "markdown",
   "metadata": {},
   "source": [
    "https://iquilezles.org/www/articles/ifsfractals/ifsfractals.htm"
   ]
  },
  {
   "cell_type": "markdown",
   "metadata": {},
   "source": [
    "# References"
   ]
  }
 ],
 "metadata": {
  "kernelspec": {
   "display_name": "Python 3",
   "language": "python",
   "name": "python3"
  },
  "language_info": {
   "codemirror_mode": {
    "name": "ipython",
    "version": 3
   },
   "file_extension": ".py",
   "mimetype": "text/x-python",
   "name": "python",
   "nbconvert_exporter": "python",
   "pygments_lexer": "ipython3",
   "version": "3.6.5"
  }
 },
 "nbformat": 4,
 "nbformat_minor": 2
}
