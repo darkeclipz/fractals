{
 "cells": [
  {
   "cell_type": "code",
   "execution_count": 1,
   "metadata": {
    "scrolled": true
   },
   "outputs": [
    {
     "name": "stdout",
     "output_type": "stream",
     "text": [
      "Populating the interactive namespace from numpy and matplotlib\n"
     ]
    }
   ],
   "source": [
    "%pylab inline"
   ]
  },
  {
   "cell_type": "code",
   "execution_count": 6,
   "metadata": {},
   "outputs": [],
   "source": [
    "from PIL import Image"
   ]
  },
  {
   "cell_type": "code",
   "execution_count": 286,
   "metadata": {},
   "outputs": [],
   "source": [
    "def cmap(t, palette):\n",
    "    return palette.a + palette.b * np.cos(2 * np.pi * (palette.c * t + palette.d))\n",
    "\n",
    "def V(*params):\n",
    "    return np.array(params)\n",
    "\n",
    "def var(v):\n",
    "    return [k for k,v in locals().items() if v == var][0]"
   ]
  },
  {
   "cell_type": "code",
   "execution_count": 287,
   "metadata": {},
   "outputs": [],
   "source": [
    "class Palette():\n",
    "    def __init__(self, a, b, c, d):\n",
    "        self.a = a\n",
    "        self.b = b\n",
    "        self.c = c\n",
    "        self.d = d\n",
    "    def __repr__(self):\n",
    "        return 'a={}\\nb={}\\nc={}\\nd={}'.format(self.a, self.b, self.c, self.d)"
   ]
  },
  {
   "cell_type": "code",
   "execution_count": 334,
   "metadata": {},
   "outputs": [],
   "source": [
    "palette1 = Palette(V(0.5, 0.5, 0.5), V(0.5, 0.5, 0.5), V(1.0, 1.0, 1.0), V(0.00, 0.33, 0.67))\n",
    "palette2 = Palette(V(0.5, 0.5, 0.5), V(0.5, 0.5, 0.5), V(1.0, 1.0, 1.0), V(0.00, 0.10, 0.20))\n",
    "palette3 = Palette(V(0.5, 0.5, 0.5), V(0.5, 0.5, 0.5), V(1.0, 1.0, 1.0), V(0.30, 0.20, 0.20))\n",
    "palette4 = Palette(V(0.5, 0.5, 0.5), V(0.5, 0.5, 0.5), V(1.0, 1.0, 1.0), V(0.80, 0.90, 0.30))\n",
    "palette5 = Palette(V(0.5, 0.5, 0.5), V(0.5, 0.5, 0.5), V(1.0, 0.7, 0.4), V(0.00, 0.15, 0.20))\n",
    "palette6 = Palette(V(0.5, 0.5, 0.5), V(0.5, 0.5, 0.5), V(2.0, 1.0, 0.0), V(0.50, 0.20, 0.25))\n",
    "palette7 = Palette(V(0.5, 0.5, 0.5), V(0.5, 0.5, 0.5), V(2.0, 1.0, 1.0), V(0.00, 0.25, 0.25))\n",
    "\n",
    "palette8 = Palette(V(0.0, 0.5, 0.5), V(0, 0.5, 0.5), V(0, .5, .33), V(0, 0.5, 0.66)) # blue-cyan\n",
    "palette9 = Palette(V(0.938, 0.328, 0.718), V(0.659, 0.438, 0.328), V(0.388, 0.388, 0.296), V(2.538, 2.478, 0.168)) # blue-magenta-orange\n",
    "palette10 = Palette(V(0.66, 0.56, 0.68), V(0.718, 0.438, 0.72), V(0.52, 0.8, 0.52), V(-0.43, -0.397, -0.083)) # blue-white-red\n",
    "palette11 = Palette(V(0.5, 0.5, 0.5), V(0.5, 0.5, 0.5), V(0.8, 0.8, 0.5), V(0.00, 0.2, 0.5)) # orange-blue\n",
    "palette12 = Palette(V(0.821, 0.328, 0.242), V(0.659, 0.481, 0.896), V(0.612, 0.34, 0.296), V(2.82, 3.026, -0.273)) # orange-magenta-blue"
   ]
  },
  {
   "cell_type": "code",
   "execution_count": 335,
   "metadata": {},
   "outputs": [],
   "source": [
    "palettes = [\n",
    "    palette8, palette9, palette10, palette11, palette12,\n",
    "    palette1, palette2, palette3, palette4, palette5, palette6, palette7\n",
    "]"
   ]
  },
  {
   "cell_type": "code",
   "execution_count": 336,
   "metadata": {},
   "outputs": [],
   "source": [
    "def palette_to_img(palette, w = 200, h = 40):\n",
    "    im = Image.new('RGB', (w, h), 'black')\n",
    "    pixels = im.load()\n",
    "    for i in range(w):\n",
    "        c = (cmap(i / w, palette) * 255).astype('int')\n",
    "        for j in range(h):\n",
    "            pixels[i, j] = (*c, 255)\n",
    "    return im"
   ]
  },
  {
   "cell_type": "code",
   "execution_count": 337,
   "metadata": {},
   "outputs": [
    {
     "name": "stdout",
     "output_type": "stream",
     "text": [
      "Generating palette 1...\n",
      "Generating palette 2...\n",
      "Generating palette 3...\n",
      "Generating palette 4...\n",
      "Generating palette 5...\n",
      "Generating palette 6...\n",
      "Generating palette 7...\n",
      "Generating palette 8...\n",
      "Generating palette 9...\n",
      "Generating palette 10...\n",
      "Generating palette 11...\n",
      "Generating palette 12...\n"
     ]
    }
   ],
   "source": [
    "i = 1\n",
    "for palette in palettes:\n",
    "    print('Generating palette {}...'.format(i))\n",
    "    palette_to_img(palette).save('palettes/palette{}.png'.format(i), 'PNG')\n",
    "    i += 1"
   ]
  },
  {
   "cell_type": "code",
   "execution_count": 338,
   "metadata": {},
   "outputs": [
    {
     "name": "stdout",
     "output_type": "stream",
     "text": [
      "|a|b|c|d|palette|\n",
      "|-|-|-|-|-|\n",
      "|`[0.  0.5 0.5]`|`[0.  0.5 0.5]`|`[0.   0.5  0.33]`|`[0.   0.5  0.66]`|![Palette 1](palettes/palette1.png)|\n",
      "|`[0.938 0.328 0.718]`|`[0.659 0.438 0.328]`|`[0.388 0.388 0.296]`|`[2.538 2.478 0.168]`|![Palette 2](palettes/palette2.png)|\n",
      "|`[0.66 0.56 0.68]`|`[0.718 0.438 0.72 ]`|`[0.52 0.8  0.52]`|`[-0.43  -0.397 -0.083]`|![Palette 3](palettes/palette3.png)|\n",
      "|`[0.5 0.5 0.5]`|`[0.5 0.5 0.5]`|`[0.8 0.8 0.5]`|`[0.  0.2 0.5]`|![Palette 4](palettes/palette4.png)|\n",
      "|`[0.821 0.328 0.242]`|`[0.659 0.481 0.896]`|`[0.612 0.34  0.296]`|`[ 2.82   3.026 -0.273]`|![Palette 5](palettes/palette5.png)|\n",
      "|`[0.5 0.5 0.5]`|`[0.5 0.5 0.5]`|`[1. 1. 1.]`|`[0.   0.33 0.67]`|![Palette 6](palettes/palette6.png)|\n",
      "|`[0.5 0.5 0.5]`|`[0.5 0.5 0.5]`|`[1. 1. 1.]`|`[0.  0.1 0.2]`|![Palette 7](palettes/palette7.png)|\n",
      "|`[0.5 0.5 0.5]`|`[0.5 0.5 0.5]`|`[1. 1. 1.]`|`[0.3 0.2 0.2]`|![Palette 8](palettes/palette8.png)|\n",
      "|`[0.5 0.5 0.5]`|`[0.5 0.5 0.5]`|`[1. 1. 1.]`|`[0.8 0.9 0.3]`|![Palette 9](palettes/palette9.png)|\n",
      "|`[0.5 0.5 0.5]`|`[0.5 0.5 0.5]`|`[1.  0.7 0.4]`|`[0.   0.15 0.2 ]`|![Palette 10](palettes/palette10.png)|\n",
      "|`[0.5 0.5 0.5]`|`[0.5 0.5 0.5]`|`[2. 1. 0.]`|`[0.5  0.2  0.25]`|![Palette 11](palettes/palette11.png)|\n",
      "|`[0.5 0.5 0.5]`|`[0.5 0.5 0.5]`|`[2. 1. 1.]`|`[0.   0.25 0.25]`|![Palette 12](palettes/palette12.png)|\n"
     ]
    }
   ],
   "source": [
    "print('|a|b|c|d|palette|')\n",
    "print('|-|-|-|-|-|')\n",
    "i=1\n",
    "for p in palettes:\n",
    "    print('|`{}`|`{}`|`{}`|`{}`|![{}]({})|'.format(p.a, p.b, p.c, p.d, 'Palette {}'.format(i), 'palettes/palette{}.png'.format(i)))\n",
    "    i+=1"
   ]
  },
  {
   "cell_type": "code",
   "execution_count": null,
   "metadata": {},
   "outputs": [],
   "source": []
  }
 ],
 "metadata": {
  "kernelspec": {
   "display_name": "Python 3",
   "language": "python",
   "name": "python3"
  },
  "language_info": {
   "codemirror_mode": {
    "name": "ipython",
    "version": 3
   },
   "file_extension": ".py",
   "mimetype": "text/x-python",
   "name": "python",
   "nbconvert_exporter": "python",
   "pygments_lexer": "ipython3",
   "version": "3.6.5"
  }
 },
 "nbformat": 4,
 "nbformat_minor": 2
}
